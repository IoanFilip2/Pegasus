{
 "metadata": {
  "name": "",
  "signature": "sha256:339127dfc2ceaf410ca468760e2a3ce5688c78d5f4d326ebc41a0d935a689c7b"
 },
 "nbformat": 3,
 "nbformat_minor": 0,
 "worksheets": [
  {
   "cells": [
    {
     "cell_type": "code",
     "collapsed": false,
     "input": [
      "import cPickle\n",
      "import numpy as np\n",
      "import pandas as pd\n",
      "import matplotlib.pyplot as plt\n",
      "%matplotlib inline\n",
      "from sklearn import preprocessing, tree, ensemble, cross_validation, metrics"
     ],
     "language": "python",
     "metadata": {},
     "outputs": [],
     "prompt_number": 14
    },
    {
     "cell_type": "code",
     "collapsed": false,
     "input": [
      "x_train_pos = pd.read_csv('06-PKdomains_NewNegTrainingSet/X_train_pos.txt', header=0, sep='\\t')\n",
      "x_train_neg_chimera = pd.read_csv('06-PKdomains_NewNegTrainingSet/X_train_pos_frameshifted.txt', header=0, sep='\\t')\n",
      "x_train_neg_RLN = pd.read_csv('06-PKdomains_NewNegTrainingSet/X_train_neg.txt', header=0, sep='\\t')\n",
      "x_train_neg = pd.concat([x_train_neg_chimera, x_train_neg_RLN.ix[:1500,:]], axis=0, ignore_index=True)\n",
      "x_validation_pos = pd.read_csv('06-PKdomains_NewNegTrainingSet/X_validation_pos.txt', header=0, sep='\\t')\n",
      "x_validation_neg = pd.read_csv('06-PKdomains_NewNegTrainingSet/X_validation_neg.txt', header=0, sep='\\t')\n",
      "x_gbm_tcga = pd.read_csv('06-PKdomains_NewNegTrainingSet/X_GBM_TCGA.txt', header=0, sep='\\t')\n",
      "x_gbm_internal = pd.read_csv('06-PKdomains_NewNegTrainingSet/X_GBM_Internal.txt', header=0, sep='\\t')\n",
      "x_alcl = pd.read_csv('06-PKdomains_NewNegTrainingSet/X_ALCL.txt', header=0, sep='\\t')"
     ],
     "language": "python",
     "metadata": {},
     "outputs": [],
     "prompt_number": 3
    },
    {
     "cell_type": "code",
     "collapsed": false,
     "input": [
      "print x_train_pos.shape\n",
      "print x_train_neg.shape\n",
      "print x_validation_pos.shape\n",
      "print x_validation_neg.shape\n",
      "print x_gbm_tcga.shape\n",
      "print x_gbm_internal.shape\n",
      "print x_alcl.shape"
     ],
     "language": "python",
     "metadata": {},
     "outputs": [
      {
       "output_type": "stream",
       "stream": "stdout",
       "text": [
        "(501, 1183)\n",
        "(1916, 1183)\n",
        "(39, 1183)\n",
        "(39, 1183)\n",
        "(26079, 1183)\n",
        "(1264, 1183)\n",
        "(8320, 1183)\n"
       ]
      }
     ],
     "prompt_number": 4
    },
    {
     "cell_type": "code",
     "collapsed": false,
     "input": [
      "features = ['5p-kinase', '3p-kinase', 'in-frame', 'premature stop codon', \n",
      "            '5p-intron', '3p-intron', '5p-BPR intergenic', '5p-BPR CDS', '3p-BPR intergenic', '3p-BPR CDS']\n",
      "mini_train_pos = pd.DataFrame(np.zeros((len(x_train_pos),len(features))), columns=features)\n",
      "mini_train_neg = pd.DataFrame(np.zeros((len(x_train_neg),len(features))), columns=features)\n",
      "mini_validation_pos = pd.DataFrame(np.zeros((len(x_validation_pos),len(features))), columns=features)\n",
      "mini_validation_neg = pd.DataFrame(np.zeros((len(x_validation_neg),len(features))), columns=features)\n",
      "mini_gbm_tcga = pd.DataFrame(np.zeros((len(x_gbm_tcga),len(features))), columns=features)\n",
      "mini_gbm_internal = pd.DataFrame(np.zeros((len(x_gbm_internal),len(features))), columns=features)\n",
      "mini_alcl = pd.DataFrame(np.zeros((len(x_alcl),len(features))), columns=features)"
     ],
     "language": "python",
     "metadata": {},
     "outputs": [],
     "prompt_number": 5
    },
    {
     "cell_type": "code",
     "collapsed": false,
     "input": [
      "for row in x_train_pos.index:\n",
      "    cols = list(x_train_pos.ix[row,:])\n",
      "    chr1 = str(cols[5]).strip()\n",
      "    chr2 = str(cols[6]).strip()\n",
      "    kinase = str(cols[22]).strip()\n",
      "    frame = str(cols[25]).strip()\n",
      "    aa_seq = str(cols[30]).strip()\n",
      "    transcript_5p = str(cols[31]).strip()\n",
      "    transcript_3p = str(cols[32]).strip()\n",
      "    BPR_5p = str(cols[33]).strip()\n",
      "    BPR_3p = str(cols[34]).strip()\n",
      "    \n",
      "    if kinase in ['5p_KINASE', 'BOTH_KINASE']:\n",
      "        mini_train_pos.ix[row,'5p-kinase'] = 1\n",
      "    if kinase in ['3p_KINASE', 'BOTH_KINASE']:\n",
      "        mini_train_pos.ix[row,'3p-kinase'] = 1\n",
      "    if frame == 'InFrame':\n",
      "        mini_train_pos.ix[row,'in-frame'] = 1\n",
      "    if aa_seq.find('*') > -1:\n",
      "        mini_train_pos.ix[row,'premature stop codon'] = 1\n",
      "    if transcript_5p.find('Intron') > -1:\n",
      "        mini_train_pos.ix[row,'5p-intron'] = 1\n",
      "    if transcript_3p.find('Intron') > -1:\n",
      "        mini_train_pos.ix[row,'3p-intron'] = 1\n",
      "    if BPR_5p.find('Intergenic') > -1:\n",
      "        mini_train_pos.ix[row,'5p-BPR intergenic'] = 1\n",
      "    if BPR_5p.find('CDS') > -1:\n",
      "        mini_train_pos.ix[row,'5p-BPR CDS'] = 1\n",
      "    if BPR_3p.find('Intergenic') > -1:\n",
      "        mini_train_pos.ix[row,'3p-BPR intergenic'] = 1\n",
      "    if BPR_3p.find('CDS') > -1:\n",
      "        mini_train_pos.ix[row,'3p-BPR CDS'] = 1"
     ],
     "language": "python",
     "metadata": {},
     "outputs": [],
     "prompt_number": 6
    },
    {
     "cell_type": "code",
     "collapsed": false,
     "input": [
      "for row in x_train_neg.index:\n",
      "    cols = list(x_train_neg.ix[row,:])\n",
      "    chr1 = str(cols[5]).strip()\n",
      "    chr2 = str(cols[6]).strip()\n",
      "    kinase = str(cols[22]).strip()\n",
      "    frame = str(cols[25]).strip()\n",
      "    aa_seq = str(cols[30]).strip()\n",
      "    transcript_5p = str(cols[31]).strip()\n",
      "    transcript_3p = str(cols[32]).strip()\n",
      "    BPR_5p = str(cols[33]).strip()\n",
      "    BPR_3p = str(cols[34]).strip()\n",
      "    \n",
      "    if kinase in ['5p_KINASE', 'BOTH_KINASE']:\n",
      "        mini_train_neg.ix[row,'5p-kinase'] = 1\n",
      "    if kinase in ['3p_KINASE', 'BOTH_KINASE']:\n",
      "        mini_train_neg.ix[row,'3p-kinase'] = 1\n",
      "    if frame == 'InFrame':\n",
      "        mini_train_neg.ix[row,'in-frame'] = 1\n",
      "    if aa_seq.find('*') > -1:\n",
      "        mini_train_neg.ix[row,'premature stop codon'] = 1\n",
      "    if transcript_5p.find('Intron') > -1:\n",
      "        mini_train_neg.ix[row,'5p-intron'] = 1\n",
      "    if transcript_3p.find('Intron') > -1:\n",
      "        mini_train_neg.ix[row,'3p-intron'] = 1\n",
      "    if BPR_5p.find('Intergenic') > -1:\n",
      "        mini_train_neg.ix[row,'5p-BPR intergenic'] = 1\n",
      "    if BPR_5p.find('CDS') > -1:\n",
      "        mini_train_neg.ix[row,'5p-BPR CDS'] = 1\n",
      "    if BPR_3p.find('Intergenic') > -1:\n",
      "        mini_train_neg.ix[row,'3p-BPR intergenic'] = 1\n",
      "    if BPR_3p.find('CDS') > -1:\n",
      "        mini_train_neg.ix[row,'3p-BPR CDS'] = 1"
     ],
     "language": "python",
     "metadata": {},
     "outputs": [],
     "prompt_number": 7
    },
    {
     "cell_type": "code",
     "collapsed": false,
     "input": [
      "for row in x_validation_pos.index:\n",
      "    cols = list(x_validation_pos.ix[row,:])\n",
      "    chr1 = str(cols[5]).strip()\n",
      "    chr2 = str(cols[6]).strip()\n",
      "    kinase = str(cols[22]).strip()\n",
      "    frame = str(cols[25]).strip()\n",
      "    aa_seq = str(cols[30]).strip()\n",
      "    transcript_5p = str(cols[31]).strip()\n",
      "    transcript_3p = str(cols[32]).strip()\n",
      "    BPR_5p = str(cols[33]).strip()\n",
      "    BPR_3p = str(cols[34]).strip()\n",
      "    \n",
      "    if kinase in ['5p_KINASE', 'BOTH_KINASE']:\n",
      "        mini_validation_pos.ix[row,'5p-kinase'] = 1\n",
      "    if kinase in ['3p_KINASE', 'BOTH_KINASE']:\n",
      "        mini_validation_pos.ix[row,'3p-kinase'] = 1\n",
      "    if frame == 'InFrame':\n",
      "        mini_validation_pos.ix[row,'in-frame'] = 1\n",
      "    if aa_seq.find('*') > -1:\n",
      "        mini_validation_pos.ix[row,'premature stop codon'] = 1\n",
      "    if transcript_5p.find('Intron') > -1:\n",
      "        mini_validation_pos.ix[row,'5p-intron'] = 1\n",
      "    if transcript_3p.find('Intron') > -1:\n",
      "        mini_validation_pos.ix[row,'3p-intron'] = 1\n",
      "    if BPR_5p.find('Intergenic') > -1:\n",
      "        mini_validation_pos.ix[row,'5p-BPR intergenic'] = 1\n",
      "    if BPR_5p.find('CDS') > -1:\n",
      "        mini_validation_pos.ix[row,'5p-BPR CDS'] = 1\n",
      "    if BPR_3p.find('Intergenic') > -1:\n",
      "        mini_validation_pos.ix[row,'3p-BPR intergenic'] = 1\n",
      "    if BPR_3p.find('CDS') > -1:\n",
      "        mini_validation_pos.ix[row,'3p-BPR CDS'] = 1"
     ],
     "language": "python",
     "metadata": {},
     "outputs": [],
     "prompt_number": 8
    },
    {
     "cell_type": "code",
     "collapsed": false,
     "input": [
      "for row in x_validation_neg.index:\n",
      "    cols = list(x_validation_neg.ix[row,:])\n",
      "    chr1 = str(cols[5]).strip()\n",
      "    chr2 = str(cols[6]).strip()\n",
      "    kinase = str(cols[22]).strip()\n",
      "    frame = str(cols[25]).strip()\n",
      "    aa_seq = str(cols[30]).strip()\n",
      "    transcript_5p = str(cols[31]).strip()\n",
      "    transcript_3p = str(cols[32]).strip()\n",
      "    BPR_5p = str(cols[33]).strip()\n",
      "    BPR_3p = str(cols[34]).strip()\n",
      "    \n",
      "    if kinase in ['5p_KINASE', 'BOTH_KINASE']:\n",
      "        mini_validation_neg.ix[row,'5p-kinase'] = 1\n",
      "    if kinase in ['3p_KINASE', 'BOTH_KINASE']:\n",
      "        mini_validation_neg.ix[row,'3p-kinase'] = 1\n",
      "    if frame == 'InFrame':\n",
      "        mini_validation_neg.ix[row,'in-frame'] = 1\n",
      "    if aa_seq.find('*') > -1:\n",
      "        mini_validation_neg.ix[row,'premature stop codon'] = 1\n",
      "    if transcript_5p.find('Intron') > -1:\n",
      "        mini_validation_neg.ix[row,'5p-intron'] = 1\n",
      "    if transcript_3p.find('Intron') > -1:\n",
      "        mini_validation_neg.ix[row,'3p-intron'] = 1\n",
      "    if BPR_5p.find('Intergenic') > -1:\n",
      "        mini_validation_neg.ix[row,'5p-BPR intergenic'] = 1\n",
      "    if BPR_5p.find('CDS') > -1:\n",
      "        mini_validation_neg.ix[row,'5p-BPR CDS'] = 1\n",
      "    if BPR_3p.find('Intergenic') > -1:\n",
      "        mini_validation_neg.ix[row,'3p-BPR intergenic'] = 1\n",
      "    if BPR_3p.find('CDS') > -1:\n",
      "        mini_validation_neg.ix[row,'3p-BPR CDS'] = 1"
     ],
     "language": "python",
     "metadata": {},
     "outputs": [],
     "prompt_number": 9
    },
    {
     "cell_type": "code",
     "collapsed": false,
     "input": [
      "for row in x_gbm_tcga.index:\n",
      "    cols = list(x_gbm_tcga.ix[row,:])\n",
      "    chr1 = str(cols[5]).strip()\n",
      "    chr2 = str(cols[6]).strip()\n",
      "    kinase = str(cols[22]).strip()\n",
      "    frame = str(cols[25]).strip()\n",
      "    aa_seq = str(cols[30]).strip()\n",
      "    transcript_5p = str(cols[31]).strip()\n",
      "    transcript_3p = str(cols[32]).strip()\n",
      "    BPR_5p = str(cols[33]).strip()\n",
      "    BPR_3p = str(cols[34]).strip()\n",
      "    \n",
      "    if kinase in ['5p_KINASE', 'BOTH_KINASE']:\n",
      "        mini_gbm_tcga.ix[row,'5p-kinase'] = 1\n",
      "    if kinase in ['3p_KINASE', 'BOTH_KINASE']:\n",
      "        mini_gbm_tcga.ix[row,'3p-kinase'] = 1\n",
      "    if frame == 'InFrame':\n",
      "        mini_gbm_tcga.ix[row,'in-frame'] = 1\n",
      "    if aa_seq.find('*') > -1:\n",
      "        mini_gbm_tcga.ix[row,'premature stop codon'] = 1\n",
      "    if transcript_5p.find('Intron') > -1:\n",
      "        mini_gbm_tcga.ix[row,'5p-intron'] = 1\n",
      "    if transcript_3p.find('Intron') > -1:\n",
      "        mini_gbm_tcga.ix[row,'3p-intron'] = 1\n",
      "    if BPR_5p.find('Intergenic') > -1:\n",
      "        mini_gbm_tcga.ix[row,'5p-BPR intergenic'] = 1\n",
      "    if BPR_5p.find('CDS') > -1:\n",
      "        mini_gbm_tcga.ix[row,'5p-BPR CDS'] = 1\n",
      "    if BPR_3p.find('Intergenic') > -1:\n",
      "        mini_gbm_tcga.ix[row,'3p-BPR intergenic'] = 1\n",
      "    if BPR_3p.find('CDS') > -1:\n",
      "        mini_gbm_tcga.ix[row,'3p-BPR CDS'] = 1"
     ],
     "language": "python",
     "metadata": {},
     "outputs": [],
     "prompt_number": 10
    },
    {
     "cell_type": "code",
     "collapsed": false,
     "input": [
      "for row in x_gbm_internal.index:\n",
      "    cols = list(x_gbm_internal.ix[row,:])\n",
      "    chr1 = str(cols[5]).strip()\n",
      "    chr2 = str(cols[6]).strip()\n",
      "    kinase = str(cols[22]).strip()\n",
      "    frame = str(cols[25]).strip()\n",
      "    aa_seq = str(cols[30]).strip()\n",
      "    transcript_5p = str(cols[31]).strip()\n",
      "    transcript_3p = str(cols[32]).strip()\n",
      "    BPR_5p = str(cols[33]).strip()\n",
      "    BPR_3p = str(cols[34]).strip()\n",
      "    \n",
      "    if kinase in ['5p_KINASE', 'BOTH_KINASE']:\n",
      "        mini_gbm_internal.ix[row,'5p-kinase'] = 1\n",
      "    if kinase in ['3p_KINASE', 'BOTH_KINASE']:\n",
      "        mini_gbm_internal.ix[row,'3p-kinase'] = 1\n",
      "    if frame == 'InFrame':\n",
      "        mini_gbm_internal.ix[row,'in-frame'] = 1\n",
      "    if aa_seq.find('*') > -1:\n",
      "        mini_gbm_internal.ix[row,'premature stop codon'] = 1\n",
      "    if transcript_5p.find('Intron') > -1:\n",
      "        mini_gbm_internal.ix[row,'5p-intron'] = 1\n",
      "    if transcript_3p.find('Intron') > -1:\n",
      "        mini_gbm_internal.ix[row,'3p-intron'] = 1\n",
      "    if BPR_5p.find('Intergenic') > -1:\n",
      "        mini_gbm_internal.ix[row,'5p-BPR intergenic'] = 1\n",
      "    if BPR_5p.find('CDS') > -1:\n",
      "        mini_gbm_internal.ix[row,'5p-BPR CDS'] = 1\n",
      "    if BPR_3p.find('Intergenic') > -1:\n",
      "        mini_gbm_internal.ix[row,'3p-BPR intergenic'] = 1\n",
      "    if BPR_3p.find('CDS') > -1:\n",
      "        mini_gbm_internal.ix[row,'3p-BPR CDS'] = 1"
     ],
     "language": "python",
     "metadata": {},
     "outputs": [],
     "prompt_number": 11
    },
    {
     "cell_type": "code",
     "collapsed": false,
     "input": [
      "for row in x_alcl.index:\n",
      "    cols = list(x_alcl.ix[row,:])\n",
      "    chr1 = str(cols[5]).strip()\n",
      "    chr2 = str(cols[6]).strip()\n",
      "    kinase = str(cols[22]).strip()\n",
      "    frame = str(cols[25]).strip()\n",
      "    aa_seq = str(cols[30]).strip()\n",
      "    transcript_5p = str(cols[31]).strip()\n",
      "    transcript_3p = str(cols[32]).strip()\n",
      "    BPR_5p = str(cols[33]).strip()\n",
      "    BPR_3p = str(cols[34]).strip()\n",
      "    \n",
      "    if kinase in ['5p_KINASE', 'BOTH_KINASE']:\n",
      "        mini_alcl.ix[row,'5p-kinase'] = 1\n",
      "    if kinase in ['3p_KINASE', 'BOTH_KINASE']:\n",
      "        mini_alcl.ix[row,'3p-kinase'] = 1\n",
      "    if frame == 'InFrame':\n",
      "        mini_alcl.ix[row,'in-frame'] = 1\n",
      "    if aa_seq.find('*') > -1:\n",
      "        mini_alcl.ix[row,'premature stop codon'] = 1\n",
      "    if transcript_5p.find('Intron') > -1:\n",
      "        mini_alcl.ix[row,'5p-intron'] = 1\n",
      "    if transcript_3p.find('Intron') > -1:\n",
      "        mini_alcl.ix[row,'3p-intron'] = 1\n",
      "    if BPR_5p.find('Intergenic') > -1:\n",
      "        mini_alcl.ix[row,'5p-BPR intergenic'] = 1\n",
      "    if BPR_5p.find('CDS') > -1:\n",
      "        mini_alcl.ix[row,'5p-BPR CDS'] = 1\n",
      "    if BPR_3p.find('Intergenic') > -1:\n",
      "        mini_alcl.ix[row,'3p-BPR intergenic'] = 1\n",
      "    if BPR_3p.find('CDS') > -1:\n",
      "        mini_alcl.ix[row,'3p-BPR CDS'] = 1"
     ],
     "language": "python",
     "metadata": {},
     "outputs": [],
     "prompt_number": 12
    },
    {
     "cell_type": "code",
     "collapsed": false,
     "input": [
      "domains = x_train_pos.columns[39:]\n",
      "domain_train_pos = x_train_pos[domains]\n",
      "domain_train_neg = x_train_neg[domains]\n",
      "domain_validation_pos = x_validation_pos[domains]\n",
      "domain_validation_neg = x_validation_neg[domains]\n",
      "domain_gbm_tcga = x_gbm_tcga[domains]\n",
      "domain_gbm_internal = x_gbm_internal[domains]\n",
      "domain_alcl = x_alcl[domains]\n",
      "\n",
      "full_train_pos = pd.merge(mini_train_pos, domain_train_pos, left_index=True, right_index=True)\n",
      "full_train_neg = pd.merge(mini_train_neg, domain_train_neg, left_index=True, right_index=True)\n",
      "full_validation_pos = pd.merge(mini_validation_pos, domain_validation_pos, left_index=True, right_index=True)\n",
      "full_validation_neg = pd.merge(mini_validation_neg, domain_validation_neg, left_index=True, right_index=True)\n",
      "full_gbm_tcga = pd.merge(mini_gbm_tcga, domain_gbm_tcga, left_index=True, right_index=True)\n",
      "full_gbm_internal = pd.merge(mini_gbm_internal, domain_gbm_internal, left_index=True, right_index=True)\n",
      "full_alcl = pd.merge(mini_alcl, domain_alcl, left_index=True, right_index=True)\n",
      "\n",
      "X_train = np.concatenate((full_train_pos.values, full_train_neg.values), axis=0)\n",
      "y_train = np.squeeze(np.concatenate((np.ones((len(full_train_pos),1)), np.zeros((len(full_train_neg),1)))))\n",
      "X_validation = np.concatenate((full_validation_pos.values, full_validation_neg.values), axis=0)\n",
      "y_validation = np.squeeze(np.concatenate((np.ones((len(full_validation_pos),1)), np.zeros((len(full_validation_neg),1)))))\n",
      "X_gbm_tcga = full_gbm_tcga.values\n",
      "X_gbm_internal = full_gbm_internal.values\n",
      "X_alcl = full_alcl.values\n",
      "y_lit_gbm_tcga = np.zeros((len(X_gbm_tcga),))\n",
      "for row in x_gbm_tcga.index:\n",
      "    cols = list(x_gbm_tcga.ix[row,:])\n",
      "    gene1 = str(cols[13]).strip()\n",
      "    gene2 = str(cols[14]).strip()\n",
      "    if gene1.find('FGFR') > -1 and gene2 == 'TACC3':\n",
      "        y_lit_gbm_tcga[row] = 1\n",
      "    if gene1 == 'EGFR' and gene2 in ['SEPT14', 'PSPH']:\n",
      "        y_lit_gbm_tcga[row] = 1\n",
      "    if gene2 == 'NTRK1' and gene1 == 'BCAN':\n",
      "        y_lit_gbm_tcga[row] = 1\n",
      "    if gene2 == 'NTRK1' and gene1.find('NFASC') > -1:\n",
      "        y_lit_gbm_tcga[row] = 1\n",
      "        \n",
      "print np.shape(X_train), np.shape(y_train)\n",
      "print np.shape(X_validation), np.shape(y_validation)\n",
      "print np.shape(X_gbm_tcga), np.shape(y_lit_gbm_tcga)\n",
      "print np.shape(X_gbm_internal)\n",
      "print np.shape(X_alcl)"
     ],
     "language": "python",
     "metadata": {},
     "outputs": [
      {
       "output_type": "stream",
       "stream": "stdout",
       "text": [
        "(2417, 1154) (2417,)\n",
        "(78, 1154) (78,)\n",
        "(26079, 1154) (26079,)\n",
        "(1264, 1154)\n",
        "(8320, 1154)\n"
       ]
      }
     ],
     "prompt_number": 13
    },
    {
     "cell_type": "code",
     "collapsed": false,
     "input": [
      "numfolds = 10\n",
      "skfold = cross_validation.StratifiedKFold(y_train, n_folds=numfolds)\n",
      "GBC_list = []\n",
      "scores = np.zeros((numfolds,))\n",
      "train_losses = np.zeros((numfolds,100))\n",
      "test_losses = np.zeros((numfolds,100))\n",
      "feature_scores = np.zeros((numfolds,1154))\n",
      "counter = 0\n",
      "for fold in skfold:\n",
      "    trainX, trainY = X_train[fold[0],:], y_train[fold[0]]\n",
      "    testX, testY = X_train[fold[1],:], y_train[fold[1]]\n",
      "    GBC_list.append(ensemble.GradientBoostingClassifier(n_estimators=100, learning_rate=0.1, max_depth=20))\n",
      "    GBC_list[counter].fit(trainX, trainY)\n",
      "    train_losses[counter,:] = GBC_list[counter].train_score_\n",
      "    feature_scores[counter,:] = GBC_list[counter].feature_importances_\n",
      "    for i, predY in enumerate(GBC_list[counter].staged_decision_function(testX)):\n",
      "        test_losses[counter,i] = GBC_list[counter].loss_(testY, predY)\n",
      "    predY = GBC_list[counter].predict_proba(testX)[:,1]\n",
      "    fpr, tpr, thresholds = metrics.roc_curve(testY, predY, pos_label=1)\n",
      "    roc_auc = metrics.auc(fpr, tpr)\n",
      "    scores[counter] = roc_auc\n",
      "    counter += 1\n",
      "\n",
      "print scores\n",
      "print scores.mean(), scores.std()"
     ],
     "language": "python",
     "metadata": {},
     "outputs": [
      {
       "output_type": "stream",
       "stream": "stdout",
       "text": [
        "[ 0.98549837  0.98354167  0.99520833  0.95848958  0.97125     0.98911458\n",
        "  0.94581152  0.93429319  0.96801047  0.96596859]\n",
        "0.969718630231 0.0185416642571\n"
       ]
      }
     ],
     "prompt_number": 15
    },
    {
     "cell_type": "code",
     "collapsed": false,
     "input": [
      "plt.rcParams['font.family'] = 'arial'\n",
      "plt.rcParams['font.size'] = 9\n",
      "plt.rcParams['axes.grid'] = False\n",
      "plt.rcParams['axes.facecolor'] = 'white'\n",
      "plt.rcParams['axes.edgecolor'] = 'black'\n",
      "plt.rcParams['axes.labelsize'] = 'large'"
     ],
     "language": "python",
     "metadata": {},
     "outputs": [],
     "prompt_number": 16
    },
    {
     "cell_type": "code",
     "collapsed": false,
     "input": [
      "x = np.arange(100) + 1\n",
      "train_mean = np.mean(train_losses, axis=0)\n",
      "train_std = np.std(train_losses, axis=0)\n",
      "train_upper = train_mean + train_std\n",
      "train_lower = train_mean - train_std\n",
      "test_mean = np.mean(test_losses, axis=0)\n",
      "test_std = np.std(test_losses, axis=0)\n",
      "test_upper = test_mean + test_std\n",
      "test_lower = test_mean - test_std\n",
      "\n",
      "fig1 = plt.figure()\n",
      "plt.plot(x, train_mean, color='blue', linewidth=2.0, label='train split')\n",
      "plt.plot(x, test_mean, color='red', linewidth=2.0, label='test split')\n",
      "plt.fill_between(x, train_upper, train_lower, color='blue', alpha='0.1')\n",
      "plt.fill_between(x, test_upper, test_lower, color='red', alpha='0.1')\n",
      "fig1.gca().set_xlim([0,101])\n",
      "plt.legend(loc='upper right')\n",
      "plt.xlabel('Boosting Iterations')\n",
      "plt.ylabel('Binomial Deviance')\n",
      "plt.tight_layout()\n",
      "plt.savefig('CSHL_RECOMB/performance.pdf')\n",
      "   \n",
      "feat_mean = np.mean(feature_scores, axis=0)\n",
      "feat_std = np.std(feature_scores, axis=0)\n",
      "\n",
      "fig2 = plt.figure()\n",
      "sorted_idx = np.argsort(feat_mean)[-10:]\n",
      "pos = np.arange(sorted_idx.shape[0]) + .5\n",
      "plt.barh(pos, feat_mean[sorted_idx], xerr=feat_std[sorted_idx], color='#a7d3ff', ecolor='#23337c', align='center')\n",
      "#plt.yticks(pos, full_train_pos.columns[sorted_idx])\n",
      "clean_feat_names = ['in-frame',\"5' BPR in CDS\",'CD from known oncogene',\"3' BPR in CDS\",\n",
      "                    'CD interacting with oncogene','CD topology of tumor suppressor','CD ABC transporter',\n",
      "                    'CD topology of oncogene','LD from known oncogene',\"3' partner intronic\"]\n",
      "plt.yticks(pos, clean_feat_names[::-1])\n",
      "plt.xlabel('Relative Feature Importance')\n",
      "plt.tight_layout()\n",
      "plt.savefig('CSHL_RECOMB/top_features.pdf')"
     ],
     "language": "python",
     "metadata": {},
     "outputs": [
      {
       "metadata": {},
       "output_type": "display_data",
       "png": "[encoded data removed]",
       "text": [
        "<matplotlib.figure.Figure at 0x117694250>"
       ]
      },
      {
       "metadata": {},
       "output_type": "display_data",
       "png": "[encoded data removed]",
       "text": [
        "<matplotlib.figure.Figure at 0x11c029450>"
       ]
      }
     ],
     "prompt_number": 28
    },
    {
     "cell_type": "code",
     "collapsed": false,
     "input": [
      "gbc = ensemble.GradientBoostingClassifier(n_estimators=100, learning_rate=0.1, max_depth=5).fit(X_train, y_train)\n",
      "#cPickle.dump(gbc, open('out/trained_model.pk','wb'))"
     ],
     "language": "python",
     "metadata": {},
     "outputs": [],
     "prompt_number": 24
    },
    {
     "cell_type": "code",
     "collapsed": false,
     "input": [
      "y_pred_val = gbc.predict_proba(X_validation)[:,1]\n",
      "fpr1, tpr1, thresholds1 = metrics.roc_curve(y_validation, y_pred_val, pos_label=1)\n",
      "roc_auc1 = metrics.auc(fpr1, tpr1)\n",
      "\n",
      "pos_file = pd.read_csv('oncofuse/y_pred_validation_pos.txt', sep='\\t', header=0)\n",
      "neg_file = pd.read_csv('oncofuse/y_pred_validation_neg.txt', sep='\\t', header=0)\n",
      "oncofuse_pos = np.zeros((39,1))\n",
      "oncofuse_neg = np.zeros((39,1))\n",
      "for i in pos_file.index:\n",
      "    oncofuse_pos[pos_file.ix[i,'FUSION_ID'] - 1] = pos_file.ix[i,'DRIVER_PROB']\n",
      "for i in neg_file.index:\n",
      "    oncofuse_neg[neg_file.ix[i,'FUSION_ID'] - 1] = neg_file.ix[i,'DRIVER_PROB']\n",
      "y_pred_oncofuse = np.squeeze(np.concatenate((oncofuse_pos, oncofuse_neg)))\n",
      "fpr2, tpr2, thresholds2 = metrics.roc_curve(y_validation, y_pred_oncofuse, pos_label=1)\n",
      "roc_auc2 = metrics.auc(fpr2, tpr2)\n",
      "\n",
      "plt.figure()\n",
      "plt.plot(fpr1, tpr1, label='Pegasus AUC = {0:.2f}'.format(roc_auc1))\n",
      "plt.plot(fpr2, tpr2, label='OncoFuse AUC = {0:.2f}'.format(roc_auc2))\n",
      "plt.plot([0, 1], [0, 1], 'k--')\n",
      "plt.xlim([-0.01, 1.0])\n",
      "plt.ylim([0.0, 1.01])\n",
      "plt.xlabel('False Positive Rate')\n",
      "plt.ylabel('True Positive Rate')\n",
      "plt.legend(loc='best')\n",
      "plt.tight_layout()\n",
      "savefig('CSHL_RECOMB/validation_ROC.pdf')\n",
      "\n",
      "plt.figure()\n",
      "plt.boxplot([gbc.predict_proba(X_train[:501,:])[:,1],\n",
      "             gbc.predict_proba(X_validation[:39,:])[:,1],\n",
      "             gbc.predict_proba(X_train[501:,:])[:,1],\n",
      "             gbc.predict_proba(X_validation[39:,:])[:,1]])\n",
      "plt.xticks([1,2,3,4], ['training +','validation +','training -','validation -'])\n",
      "plt.xlabel('fusion candidate subset')\n",
      "plt.ylabel('Pegasus score')\n",
      "plt.tight_layout()\n",
      "plt.savefig('CSHL_RECOMB/validation_boxplot.pdf')"
     ],
     "language": "python",
     "metadata": {},
     "outputs": [
      {
       "metadata": {},
       "output_type": "display_data",
       "png": "[encoded data removed]",
       "text": [
        "<matplotlib.figure.Figure at 0x10aa73150>"
       ]
      },
      {
       "metadata": {},
       "output_type": "display_data",
       "png": "[encoded data removed]",
       "text": [
        "<matplotlib.figure.Figure at 0x10c8bc3d0>"
       ]
      }
     ],
     "prompt_number": 29
    },
    {
     "cell_type": "code",
     "collapsed": false,
     "input": [
      "y_pred_gbm_tcga = gbc.predict_proba(X_gbm_tcga)[:,1]\n",
      "y_pred_gbm_internal = gbc.predict_proba(X_gbm_internal)[:,1]\n",
      "y_pred_alcl = gbc.predict_proba(X_alcl)[:,1]"
     ],
     "language": "python",
     "metadata": {},
     "outputs": [],
     "prompt_number": 26
    },
    {
     "cell_type": "code",
     "collapsed": false,
     "input": [
      "fpr, tpr, thresholds = metrics.roc_curve(y_lit_gbm_tcga, y_pred_gbm_tcga, pos_label=1)\n",
      "roc_auc = metrics.auc(fpr, tpr)\n",
      "\n",
      "plt.figure()\n",
      "plt.plot(fpr, tpr, label='GBM AUC = {0:.2f}'.format(roc_auc))\n",
      "plt.plot([0, 1], [0, 1], 'k--')\n",
      "plt.xlim([-0.01, 1.0])\n",
      "plt.ylim([0.0, 1.01])\n",
      "plt.xlabel('False Positive Rate')\n",
      "plt.ylabel('True Positive Rate')\n",
      "plt.legend(loc='best')\n",
      "plt.savefig('CSHL_RECOMB/gbm_ROC.pdf')"
     ],
     "language": "python",
     "metadata": {},
     "outputs": [
      {
       "metadata": {},
       "output_type": "display_data",
       "png": "[encoded data removed]",
       "text": [
        "<matplotlib.figure.Figure at 0x11c2632d0>"
       ]
      }
     ],
     "prompt_number": 30
    },
    {
     "cell_type": "code",
     "collapsed": false,
     "input": [
      "#np.savetxt('Y_GBM_TCGA.txt', y_pred_gbm_tcga, fmt='%1.4f')\n",
      "#np.savetxt('Y_GBM_Internal.txt', y_pred_gbm_internal, fmt='%1.4f')\n",
      "#np.savetxt('Y_ALCL.txt', y_pred_alcl, fmt='%1.4f')\n",
      "#np.savetxt('Y_Prostate.txt', y_pred_prostate, fmt='%1.4f')\n",
      "#np.savetxt('Y_Melanoma.txt', y_pred_melanoma, fmt='%1.4f')\n",
      "np.savetxt('Y_CML.txt', y_pred_cml, fmt='%1.4f')"
     ],
     "language": "python",
     "metadata": {},
     "outputs": [],
     "prompt_number": 45
    },
    {
     "cell_type": "code",
     "collapsed": false,
     "input": [
      "from scipy.stats import spearmanr, kendalltau, scoreatpercentile\n",
      "\n",
      "peg_train = gbc.predict_proba(X_train)[:501,1]\n",
      "peg_val = gbc.predict_proba(X_validation)[:39,1]\n",
      "cosmic_train = np.genfromtxt('CosmicFrequencies/cosmic_train_pos.txt')\n",
      "idx_train = np.nonzero(cosmic_train)[0]\n",
      "cosmic_val = np.genfromtxt('CosmicFrequencies/cosmic_validation_pos.txt')\n",
      "idx_val = np.nonzero(cosmic_val)[0]\n",
      "peg_train = peg_train[idx_train]\n",
      "peg_val = peg_val[idx_val]\n",
      "cosmic_train = cosmic_train[idx_train]\n",
      "cosmic_val = cosmic_val[idx_val]\n",
      "\n",
      "print len(peg_train), len(cosmic_train)\n",
      "print len(peg_val), len(cosmic_val)\n",
      "print spearmanr(peg_train, cosmic_train)\n",
      "print spearmanr(peg_val, cosmic_val)"
     ],
     "language": "python",
     "metadata": {},
     "outputs": [
      {
       "output_type": "stream",
       "stream": "stdout",
       "text": [
        "88 88\n",
        "10 10\n",
        "(0.16096574484385798, 0.13408379646750498)\n",
        "(-0.116928058579622, 0.74768834734338385)\n"
       ]
      }
     ],
     "prompt_number": 105
    },
    {
     "cell_type": "code",
     "collapsed": false,
     "input": [
      "dtree = tree.DecisionTreeRegressor(max_depth=3)\n",
      "dtree.fit(X_train, y_train)\n",
      "print pd.DataFrame(dtree.feature_importances_, columns=['Importance'], index=full_train_pos.columns).sort(['Importance'], ascending=False)\n",
      "tree.export_graphviz(dtree, out_file='dtree_experimental.dot', feature_names=full_train_pos.columns)"
     ],
     "language": "python",
     "metadata": {},
     "outputs": [
      {
       "output_type": "stream",
       "stream": "stdout",
       "text": [
        "<class 'pandas.core.frame.DataFrame'>\n",
        "Index: 1154 entries, in-frame to 5p-kinase\n",
        "Data columns (total 1 columns):\n",
        "Importance    1154  non-null values\n",
        "dtypes: float64(1)\n"
       ]
      },
      {
       "output_type": "stream",
       "stream": "stderr",
       "text": [
        "/opt/local/Library/Frameworks/Python.framework/Versions/2.7/lib/python2.7/site-packages/pandas/core/config.py:570: DeprecationWarning: height has been deprecated.\n",
        "\n",
        "  warnings.warn(d.msg, DeprecationWarning)\n"
       ]
      },
      {
       "metadata": {},
       "output_type": "pyout",
       "prompt_number": 160,
       "text": [
        "<open file 'dtree_experimental.dot', mode 'wb' at 0x10d457ae0>"
       ]
      }
     ],
     "prompt_number": 160
    },
    {
     "cell_type": "code",
     "collapsed": false,
     "input": [
      "_.close()"
     ],
     "language": "python",
     "metadata": {},
     "outputs": [],
     "prompt_number": 161
    },
    {
     "cell_type": "code",
     "collapsed": false,
     "input": [
      "x_validation_pos = pd.read_csv('06-PKdomains_NewNegTrainingSet/X_validation_pos.txt', header=0, sep='\\t')\n",
      "x_validation_neg_onc = pd.read_csv('oncofuse.txt', header=0, sep='\\t')\n",
      "x_validation_neg_peg = pd.read_csv('oncofuse.txt', header=0, sep='\\t')"
     ],
     "language": "python",
     "metadata": {},
     "outputs": []
    }
   ],
   "metadata": {}
  }
 ]
}